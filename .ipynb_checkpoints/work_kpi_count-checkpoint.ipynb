{
 "cells": [
  {
   "cell_type": "code",
   "execution_count": 100,
   "id": "5b7ee02e-5a63-42e2-b1ae-a0b6f613d8aa",
   "metadata": {},
   "outputs": [],
   "source": [
    "import pandas as pd\n",
    "import datetime\n",
    "import seaborn as sns"
   ]
  },
  {
   "cell_type": "code",
   "execution_count": 84,
   "id": "d1d54b32-6e0b-4329-87e1-b344a303ae62",
   "metadata": {},
   "outputs": [],
   "source": [
    "url = '/storage/emulated/0/Analyse_Data/sales.csv'"
   ]
  },
  {
   "cell_type": "code",
   "execution_count": 85,
   "id": "3e6acbbd-0d86-487d-87c6-7afac173968f",
   "metadata": {},
   "outputs": [],
   "source": [
    "df = pd.read_csv(url, sep=';')"
   ]
  },
  {
   "cell_type": "code",
   "execution_count": 86,
   "id": "8d32d0e9-8640-4ea8-914b-6bc7077a13e3",
   "metadata": {},
   "outputs": [],
   "source": [
    "df.reset_index(drop=True, inplace=True)"
   ]
  },
  {
   "cell_type": "code",
   "execution_count": 87,
   "id": "9168d794-3826-4290-83b4-2dcad6c8001e",
   "metadata": {},
   "outputs": [],
   "source": [
    "df.drop(columns='Id', inplace=True)"
   ]
  },
  {
   "cell_type": "code",
   "execution_count": 88,
   "id": "005f9f62-ba1e-4282-85f5-b8b0da7a056c",
   "metadata": {},
   "outputs": [],
   "source": [
    "df.date = pd.to_datetime(df['date'], unit='ms')"
   ]
  },
  {
   "cell_type": "code",
   "execution_count": 133,
   "id": "bb2e5982-e558-4310-bfa2-836f0fda1e5f",
   "metadata": {},
   "outputs": [],
   "source": [
    "df['month'] = df.date.dt.month"
   ]
  },
  {
   "cell_type": "code",
   "execution_count": 165,
   "id": "fe27bf9e-6e98-4a0a-aa5c-61cca66a0556",
   "metadata": {},
   "outputs": [],
   "source": [
    "count_kf = df.query(\"branch == 'Купи Флакон' and month == 1 and t_c != 'Самовывоз'\")\\\n",
    ".groupby('date', as_index=False)\\\n",
    ".agg({\"order_count\": \"sum\"}).sort_values(\"order_count\", ascending=False)"
   ]
  },
  {
   "cell_type": "code",
   "execution_count": 137,
   "id": "0e8959a1-da9b-442c-a0c6-8e86293a8325",
   "metadata": {},
   "outputs": [],
   "source": [
    "count_mp = df.query(\"branch == 'Маркетплейс' and month == 1\")\\\n",
    ".groupby('date', as_index=False)\\\n",
    ".agg({\"order_count\": \"sum\"}).sort_values(\"order_count\", ascending=False)"
   ]
  },
  {
   "cell_type": "code",
   "execution_count": 141,
   "id": "4ef7765d-331c-449c-8fd5-37611ac15b25",
   "metadata": {},
   "outputs": [
    {
     "data": {
      "text/plain": [
       "37.68"
      ]
     },
     "execution_count": 141,
     "metadata": {},
     "output_type": "execute_result"
    }
   ],
   "source": [
    "round(count_mp.order_count.sum() / df.order_count.sum() * 100, 2)"
   ]
  },
  {
   "cell_type": "code",
   "execution_count": 166,
   "id": "962c1420-466e-4af7-bfed-de103f91af47",
   "metadata": {},
   "outputs": [
    {
     "data": {
      "text/plain": [
       "41.74"
      ]
     },
     "execution_count": 166,
     "metadata": {},
     "output_type": "execute_result"
    }
   ],
   "source": [
    "round(count_kf.order_count.sum() / df.order_count.sum() * 100, 2)"
   ]
  },
  {
   "cell_type": "code",
   "execution_count": 143,
   "id": "794b33bc-41ee-464e-8a5e-846716d7db19",
   "metadata": {},
   "outputs": [],
   "source": [
    "count_mp_kf = df.query(\"month == 1\")\\\n",
    ".groupby('date', as_index=False)\\\n",
    ".agg({\"order_count\": \"sum\"}).sort_values(\"order_count\", ascending=False)"
   ]
  },
  {
   "cell_type": "code",
   "execution_count": 150,
   "id": "5067971e-0c3f-47dd-b4ea-8e7995b77930",
   "metadata": {},
   "outputs": [
    {
     "data": {
      "text/plain": [
       "335"
      ]
     },
     "execution_count": 150,
     "metadata": {},
     "output_type": "execute_result"
    }
   ],
   "source": [
    "count_mp_kf.order_count.sum()"
   ]
  },
  {
   "cell_type": "code",
   "execution_count": 167,
   "id": "c1efa88d-f657-46a1-aecf-25c302425f8d",
   "metadata": {},
   "outputs": [
    {
     "data": {
      "text/plain": [
       "144"
      ]
     },
     "execution_count": 167,
     "metadata": {},
     "output_type": "execute_result"
    }
   ],
   "source": [
    "count_kf.order_count.sum()"
   ]
  },
  {
   "cell_type": "code",
   "execution_count": 168,
   "id": "bede333d-f9d8-47f2-a8e6-06d24e555233",
   "metadata": {},
   "outputs": [
    {
     "data": {
      "text/plain": [
       "130"
      ]
     },
     "execution_count": 168,
     "metadata": {},
     "output_type": "execute_result"
    }
   ],
   "source": [
    "count_mp.order_count.sum()"
   ]
  },
  {
   "cell_type": "code",
   "execution_count": 159,
   "id": "c260df83-1c38-4d2a-9708-d9615b83f3c9",
   "metadata": {},
   "outputs": [],
   "source": [
    "pickup = df.query(\"t_c == 'Самовывоз' and month == 1\").order_count.sum()"
   ]
  },
  {
   "cell_type": "code",
   "execution_count": 160,
   "id": "80d0c6ec-c7dc-457b-a1e6-791944c19eef",
   "metadata": {},
   "outputs": [
    {
     "data": {
      "text/plain": [
       "61"
      ]
     },
     "execution_count": 160,
     "metadata": {},
     "output_type": "execute_result"
    }
   ],
   "source": [
    "pickup"
   ]
  },
  {
   "cell_type": "code",
   "execution_count": null,
   "id": "d0912e21-0034-4f4b-a707-337afbf17d65",
   "metadata": {},
   "outputs": [],
   "source": []
  }
 ],
 "metadata": {
  "kernelspec": {
   "display_name": "Python 3 (ipykernel)",
   "language": "python",
   "name": "python3"
  },
  "language_info": {
   "codemirror_mode": {
    "name": "ipython",
    "version": 3
   },
   "file_extension": ".py",
   "mimetype": "text/x-python",
   "name": "python",
   "nbconvert_exporter": "python",
   "pygments_lexer": "ipython3",
   "version": "3.11.4"
  }
 },
 "nbformat": 4,
 "nbformat_minor": 5
}

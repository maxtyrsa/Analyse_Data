{
 "cells": [
  {
   "cell_type": "code",
   "execution_count": 7,
   "id": "5b7ee02e-5a63-42e2-b1ae-a0b6f613d8aa",
   "metadata": {},
   "outputs": [],
   "source": [
    "import pandas as pd\n",
    "import datetime\n",
    "import seaborn as sns"
   ]
  },
  {
   "cell_type": "code",
   "execution_count": 8,
   "id": "d1d54b32-6e0b-4329-87e1-b344a303ae62",
   "metadata": {},
   "outputs": [],
   "source": [
    "url = '/storage/emulated/0/Analyse_Data/sales.csv'"
   ]
  },
  {
   "cell_type": "code",
   "execution_count": 9,
   "id": "3e6acbbd-0d86-487d-87c6-7afac173968f",
   "metadata": {},
   "outputs": [],
   "source": [
    "df = pd.read_csv(url, sep=';')"
   ]
  },
  {
   "cell_type": "code",
   "execution_count": 10,
   "id": "8d32d0e9-8640-4ea8-914b-6bc7077a13e3",
   "metadata": {},
   "outputs": [],
   "source": [
    "df.reset_index(drop=True, inplace=True)"
   ]
  },
  {
   "cell_type": "code",
   "execution_count": 11,
   "id": "9168d794-3826-4290-83b4-2dcad6c8001e",
   "metadata": {},
   "outputs": [],
   "source": [
    "df.drop(columns='Id', inplace=True)"
   ]
  },
  {
   "cell_type": "code",
   "execution_count": 12,
   "id": "005f9f62-ba1e-4282-85f5-b8b0da7a056c",
   "metadata": {},
   "outputs": [],
   "source": [
    "df.date = pd.to_datetime(df['date'], unit='ms')"
   ]
  },
  {
   "cell_type": "code",
   "execution_count": 13,
   "id": "bb2e5982-e558-4310-bfa2-836f0fda1e5f",
   "metadata": {},
   "outputs": [],
   "source": [
    "df['month'] = df.date.dt.month"
   ]
  },
  {
   "cell_type": "code",
   "execution_count": 14,
   "id": "fe27bf9e-6e98-4a0a-aa5c-61cca66a0556",
   "metadata": {},
   "outputs": [],
   "source": [
    "count_kf = df.query(\"branch == 'Купи Флакон' and month == 1 and t_c != 'Самовывоз'\")\\\n",
    ".groupby('date', as_index=False)\\\n",
    ".agg({\"order_count\": \"sum\"}).sort_values(\"order_count\", ascending=False)"
   ]
  },
  {
   "cell_type": "code",
   "execution_count": 15,
   "id": "0e8959a1-da9b-442c-a0c6-8e86293a8325",
   "metadata": {},
   "outputs": [],
   "source": [
    "count_mp = df.query(\"branch == 'Маркетплейс' and month == 1\")\\\n",
    ".groupby('date', as_index=False)\\\n",
    ".agg({\"order_count\": \"sum\"}).sort_values(\"order_count\", ascending=False)"
   ]
  },
  {
   "cell_type": "code",
   "execution_count": 16,
   "id": "4ef7765d-331c-449c-8fd5-37611ac15b25",
   "metadata": {},
   "outputs": [
    {
     "data": {
      "text/plain": [
       "37.68"
      ]
     },
     "execution_count": 16,
     "metadata": {},
     "output_type": "execute_result"
    }
   ],
   "source": [
    "round(count_mp.order_count.sum() / df.order_count.sum() * 100, 2)"
   ]
  },
  {
   "cell_type": "code",
   "execution_count": 17,
   "id": "962c1420-466e-4af7-bfed-de103f91af47",
   "metadata": {},
   "outputs": [
    {
     "data": {
      "text/plain": [
       "41.74"
      ]
     },
     "execution_count": 17,
     "metadata": {},
     "output_type": "execute_result"
    }
   ],
   "source": [
    "round(count_kf.order_count.sum() / df.order_count.sum() * 100, 2)"
   ]
  },
  {
   "cell_type": "code",
   "execution_count": 18,
   "id": "794b33bc-41ee-464e-8a5e-846716d7db19",
   "metadata": {},
   "outputs": [],
   "source": [
    "count_mp_kf = df.query(\"month == 1\")\\\n",
    ".groupby('date', as_index=False)\\\n",
    ".agg({\"order_count\": \"sum\"}).sort_values(\"order_count\", ascending=False)"
   ]
  },
  {
   "cell_type": "code",
   "execution_count": 19,
   "id": "5067971e-0c3f-47dd-b4ea-8e7995b77930",
   "metadata": {},
   "outputs": [
    {
     "data": {
      "text/plain": [
       "335"
      ]
     },
     "execution_count": 19,
     "metadata": {},
     "output_type": "execute_result"
    }
   ],
   "source": [
    "count_mp_kf.order_count.sum()"
   ]
  },
  {
   "cell_type": "code",
   "execution_count": 20,
   "id": "c1efa88d-f657-46a1-aecf-25c302425f8d",
   "metadata": {},
   "outputs": [
    {
     "data": {
      "text/plain": [
       "144"
      ]
     },
     "execution_count": 20,
     "metadata": {},
     "output_type": "execute_result"
    }
   ],
   "source": [
    "count_kf.order_count.sum()"
   ]
  },
  {
   "cell_type": "code",
   "execution_count": 21,
   "id": "bede333d-f9d8-47f2-a8e6-06d24e555233",
   "metadata": {},
   "outputs": [
    {
     "data": {
      "text/plain": [
       "130"
      ]
     },
     "execution_count": 21,
     "metadata": {},
     "output_type": "execute_result"
    }
   ],
   "source": [
    "count_mp.order_count.sum()"
   ]
  },
  {
   "cell_type": "code",
   "execution_count": 22,
   "id": "c260df83-1c38-4d2a-9708-d9615b83f3c9",
   "metadata": {},
   "outputs": [],
   "source": [
    "pickup = df.query(\"t_c == 'Самовывоз' and month == 1\").order_count.sum()"
   ]
  },
  {
   "cell_type": "code",
   "execution_count": 23,
   "id": "80d0c6ec-c7dc-457b-a1e6-791944c19eef",
   "metadata": {},
   "outputs": [
    {
     "data": {
      "text/plain": [
       "61"
      ]
     },
     "execution_count": 23,
     "metadata": {},
     "output_type": "execute_result"
    }
   ],
   "source": [
    "pickup"
   ]
  },
  {
   "cell_type": "code",
   "execution_count": 24,
   "id": "d0912e21-0034-4f4b-a707-337afbf17d65",
   "metadata": {},
   "outputs": [
    {
     "data": {
      "text/html": [
       "<div>\n",
       "<style scoped>\n",
       "    .dataframe tbody tr th:only-of-type {\n",
       "        vertical-align: middle;\n",
       "    }\n",
       "\n",
       "    .dataframe tbody tr th {\n",
       "        vertical-align: top;\n",
       "    }\n",
       "\n",
       "    .dataframe thead th {\n",
       "        text-align: right;\n",
       "    }\n",
       "</style>\n",
       "<table border=\"1\" class=\"dataframe\">\n",
       "  <thead>\n",
       "    <tr style=\"text-align: right;\">\n",
       "      <th></th>\n",
       "      <th>date</th>\n",
       "      <th>order_number</th>\n",
       "      <th>place</th>\n",
       "      <th>t_c</th>\n",
       "      <th>order_count</th>\n",
       "      <th>branch</th>\n",
       "      <th>month</th>\n",
       "    </tr>\n",
       "  </thead>\n",
       "  <tbody>\n",
       "    <tr>\n",
       "      <th>0</th>\n",
       "      <td>2024-01-09</td>\n",
       "      <td>79077</td>\n",
       "      <td>1</td>\n",
       "      <td>Boxberry</td>\n",
       "      <td>1</td>\n",
       "      <td>Купи Флакон</td>\n",
       "      <td>1</td>\n",
       "    </tr>\n",
       "    <tr>\n",
       "      <th>1</th>\n",
       "      <td>2024-01-09</td>\n",
       "      <td>79095</td>\n",
       "      <td>1</td>\n",
       "      <td>Почта России</td>\n",
       "      <td>1</td>\n",
       "      <td>Купи Флакон</td>\n",
       "      <td>1</td>\n",
       "    </tr>\n",
       "    <tr>\n",
       "      <th>2</th>\n",
       "      <td>2024-01-09</td>\n",
       "      <td>79086</td>\n",
       "      <td>1</td>\n",
       "      <td>Boxberry</td>\n",
       "      <td>1</td>\n",
       "      <td>Купи Флакон</td>\n",
       "      <td>1</td>\n",
       "    </tr>\n",
       "    <tr>\n",
       "      <th>3</th>\n",
       "      <td>2024-01-09</td>\n",
       "      <td>79065</td>\n",
       "      <td>1</td>\n",
       "      <td>Boxberry</td>\n",
       "      <td>1</td>\n",
       "      <td>Купи Флакон</td>\n",
       "      <td>1</td>\n",
       "    </tr>\n",
       "    <tr>\n",
       "      <th>4</th>\n",
       "      <td>2024-01-09</td>\n",
       "      <td>79087</td>\n",
       "      <td>1</td>\n",
       "      <td>Boxberry</td>\n",
       "      <td>1</td>\n",
       "      <td>Купи Флакон</td>\n",
       "      <td>1</td>\n",
       "    </tr>\n",
       "  </tbody>\n",
       "</table>\n",
       "</div>"
      ],
      "text/plain": [
       "        date  order_number  place           t_c  order_count       branch  \\\n",
       "0 2024-01-09         79077      1      Boxberry            1  Купи Флакон   \n",
       "1 2024-01-09         79095      1  Почта России            1  Купи Флакон   \n",
       "2 2024-01-09         79086      1      Boxberry            1  Купи Флакон   \n",
       "3 2024-01-09         79065      1      Boxberry            1  Купи Флакон   \n",
       "4 2024-01-09         79087      1      Boxberry            1  Купи Флакон   \n",
       "\n",
       "   month  \n",
       "0      1  \n",
       "1      1  \n",
       "2      1  \n",
       "3      1  \n",
       "4      1  "
      ]
     },
     "execution_count": 24,
     "metadata": {},
     "output_type": "execute_result"
    }
   ],
   "source": [
    "df.head()"
   ]
  },
  {
   "cell_type": "code",
   "execution_count": 43,
   "id": "be73b020-b6b8-4c72-af80-444e57da3bbc",
   "metadata": {},
   "outputs": [
    {
     "data": {
      "text/html": [
       "<div>\n",
       "<style scoped>\n",
       "    .dataframe tbody tr th:only-of-type {\n",
       "        vertical-align: middle;\n",
       "    }\n",
       "\n",
       "    .dataframe tbody tr th {\n",
       "        vertical-align: top;\n",
       "    }\n",
       "\n",
       "    .dataframe thead th {\n",
       "        text-align: right;\n",
       "    }\n",
       "</style>\n",
       "<table border=\"1\" class=\"dataframe\">\n",
       "  <thead>\n",
       "    <tr style=\"text-align: right;\">\n",
       "      <th></th>\n",
       "      <th>order_count</th>\n",
       "    </tr>\n",
       "    <tr>\n",
       "      <th>t_c</th>\n",
       "      <th></th>\n",
       "    </tr>\n",
       "  </thead>\n",
       "  <tbody>\n",
       "    <tr>\n",
       "      <th>Boxberry</th>\n",
       "      <td>28</td>\n",
       "    </tr>\n",
       "    <tr>\n",
       "      <th>DPD</th>\n",
       "      <td>39</td>\n",
       "    </tr>\n",
       "    <tr>\n",
       "      <th>Деловые линии</th>\n",
       "      <td>6</td>\n",
       "    </tr>\n",
       "    <tr>\n",
       "      <th>Озон</th>\n",
       "      <td>1</td>\n",
       "    </tr>\n",
       "    <tr>\n",
       "      <th>ПЭК</th>\n",
       "      <td>7</td>\n",
       "    </tr>\n",
       "    <tr>\n",
       "      <th>Почта России</th>\n",
       "      <td>16</td>\n",
       "    </tr>\n",
       "    <tr>\n",
       "      <th>Самовывоз</th>\n",
       "      <td>61</td>\n",
       "    </tr>\n",
       "    <tr>\n",
       "      <th>Сдек</th>\n",
       "      <td>47</td>\n",
       "    </tr>\n",
       "  </tbody>\n",
       "</table>\n",
       "</div>"
      ],
      "text/plain": [
       "               order_count\n",
       "t_c                       \n",
       "Boxberry                28\n",
       "DPD                     39\n",
       "Деловые линии            6\n",
       "Озон                     1\n",
       "ПЭК                      7\n",
       "Почта России            16\n",
       "Самовывоз               61\n",
       "Сдек                    47"
      ]
     },
     "execution_count": 43,
     "metadata": {},
     "output_type": "execute_result"
    }
   ],
   "source": [
    "df.query(\"month == 1 and branch == 'Купи Флакон'\")\\\n",
    ".groupby(\"t_c\")\\\n",
    ".agg({\"order_count\": \"count\"})"
   ]
  },
  {
   "cell_type": "code",
   "execution_count": null,
   "id": "5ad18553-9f5a-41af-84bc-9bdf8548a6fe",
   "metadata": {},
   "outputs": [],
   "source": []
  }
 ],
 "metadata": {
  "kernelspec": {
   "display_name": "Python 3 (ipykernel)",
   "language": "python",
   "name": "python3"
  },
  "language_info": {
   "codemirror_mode": {
    "name": "ipython",
    "version": 3
   },
   "file_extension": ".py",
   "mimetype": "text/x-python",
   "name": "python",
   "nbconvert_exporter": "python",
   "pygments_lexer": "ipython3",
   "version": "3.11.4"
  }
 },
 "nbformat": 4,
 "nbformat_minor": 5
}

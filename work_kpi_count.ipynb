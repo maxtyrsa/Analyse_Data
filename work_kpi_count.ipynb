{
 "cells": [
  {
   "cell_type": "code",
   "execution_count": 100,
   "id": "5b7ee02e-5a63-42e2-b1ae-a0b6f613d8aa",
   "metadata": {},
   "outputs": [],
   "source": [
    "import pandas as pd\n",
    "import datetime\n",
    "import seaborn as sns"
   ]
  },
  {
   "cell_type": "code",
   "execution_count": 84,
   "id": "d1d54b32-6e0b-4329-87e1-b344a303ae62",
   "metadata": {},
   "outputs": [],
   "source": [
    "url = '/storage/emulated/0/Analyse_Data/sales.csv'"
   ]
  },
  {
   "cell_type": "code",
   "execution_count": 85,
   "id": "3e6acbbd-0d86-487d-87c6-7afac173968f",
   "metadata": {},
   "outputs": [],
   "source": [
    "df = pd.read_csv(url, sep=';')"
   ]
  },
  {
   "cell_type": "code",
   "execution_count": 86,
   "id": "8d32d0e9-8640-4ea8-914b-6bc7077a13e3",
   "metadata": {},
   "outputs": [],
   "source": [
    "df.reset_index(drop=True, inplace=True)"
   ]
  },
  {
   "cell_type": "code",
   "execution_count": 87,
   "id": "9168d794-3826-4290-83b4-2dcad6c8001e",
   "metadata": {},
   "outputs": [],
   "source": [
    "df.drop(columns='Id', inplace=True)"
   ]
  },
  {
   "cell_type": "code",
   "execution_count": 88,
   "id": "005f9f62-ba1e-4282-85f5-b8b0da7a056c",
   "metadata": {},
   "outputs": [],
   "source": [
    "df.date = pd.to_datetime(df['date'], unit='ms')"
   ]
  },
  {
   "cell_type": "code",
   "execution_count": 120,
   "id": "fe27bf9e-6e98-4a0a-aa5c-61cca66a0556",
   "metadata": {},
   "outputs": [],
   "source": [
    "count = df.query(\"branch == 'Купи Флакон'\")\\\n",
    ".groupby('date', as_index=False)\\\n",
    ".agg({\"order_count\": \"sum\"}).sort_values(\"order_count\", ascending=False)"
   ]
  },
  {
   "cell_type": "code",
   "execution_count": 123,
   "id": "43c2ec7a-31bc-4d60-bd9b-7c6e2656be3f",
   "metadata": {},
   "outputs": [
    {
     "data": {
      "text/plain": [
       "<Axes: xlabel='date', ylabel='Density'>"
      ]
     },
     "execution_count": 123,
     "metadata": {},
     "output_type": "execute_result"
    }
   ],
   "source": [
    "sns.barplot(count.head())"
   ]
  },
  {
   "cell_type": "code",
   "execution_count": null,
   "id": "4ef7765d-331c-449c-8fd5-37611ac15b25",
   "metadata": {},
   "outputs": [],
   "source": []
  }
 ],
 "metadata": {
  "kernelspec": {
   "display_name": "Python 3 (ipykernel)",
   "language": "python",
   "name": "python3"
  },
  "language_info": {
   "codemirror_mode": {
    "name": "ipython",
    "version": 3
   },
   "file_extension": ".py",
   "mimetype": "text/x-python",
   "name": "python",
   "nbconvert_exporter": "python",
   "pygments_lexer": "ipython3",
   "version": "3.11.4"
  }
 },
 "nbformat": 4,
 "nbformat_minor": 5
}
